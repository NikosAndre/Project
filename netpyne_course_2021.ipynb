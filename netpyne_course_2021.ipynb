{
  "nbformat": 4,
  "nbformat_minor": 0,
  "metadata": {
    "colab": {
      "name": "netpyne_course_2021",
      "provenance": [],
      "authorship_tag": "ABX9TyPfMAww71xBji7iAU7Qbr1e",
      "include_colab_link": true
    },
    "kernelspec": {
      "name": "python3",
      "display_name": "Python 3"
    },
    "language_info": {
      "name": "python"
    }
  },
  "cells": [
    {
      "cell_type": "markdown",
      "metadata": {
        "id": "view-in-github",
        "colab_type": "text"
      },
      "source": [
        "<a href=\"https://colab.research.google.com/github/NikosAndre/Project/blob/master/netpyne_course_2021.ipynb\" target=\"_parent\"><img src=\"https://colab.research.google.com/assets/colab-badge.svg\" alt=\"Open In Colab\"/></a>"
      ]
    },
    {
      "cell_type": "code",
      "metadata": {
        "id": "SbGO95g3thB2"
      },
      "source": [
        ""
      ],
      "execution_count": null,
      "outputs": []
    },
    {
      "cell_type": "markdown",
      "metadata": {
        "id": "0fI-ZppBtmD9"
      },
      "source": [
        "# NetPyNe Course 2021\n",
        "\n",
        "## Working with Colab"
      ]
    },
    {
      "cell_type": "code",
      "metadata": {
        "colab": {
          "base_uri": "https://localhost:8080/"
        },
        "id": "u4N0X6YNt11k",
        "outputId": "2ba67e31-1e77-46d1-d2eb-7c10a8940720"
      },
      "source": [
        "!pip install neuron\n"
      ],
      "execution_count": 4,
      "outputs": [
        {
          "output_type": "stream",
          "text": [
            "Collecting neuron\n",
            "\u001b[?25l  Downloading https://files.pythonhosted.org/packages/14/f4/ea50608c7633c286859d6cce0aad621da22a8da7ff9787efc8bb71fe0597/NEURON-8.0.0-cp37-cp37m-manylinux1_x86_64.whl (12.6MB)\n",
            "\u001b[K     |████████████████████████████████| 12.6MB 296kB/s \n",
            "\u001b[?25hRequirement already satisfied: numpy>=1.9.3 in /usr/local/lib/python3.7/dist-packages (from neuron) (1.19.5)\n",
            "Installing collected packages: neuron\n",
            "Successfully installed neuron-8.0.0\n"
          ],
          "name": "stdout"
        }
      ]
    },
    {
      "cell_type": "code",
      "metadata": {
        "colab": {
          "base_uri": "https://localhost:8080/"
        },
        "id": "Ik8Q0OzduKIZ",
        "outputId": "835d81ff-0d53-43e4-8da9-6129db7d4f51"
      },
      "source": [
        "!which nrnivmodl\n"
      ],
      "execution_count": 5,
      "outputs": [
        {
          "output_type": "stream",
          "text": [
            "/usr/local/bin/nrnivmodl\n"
          ],
          "name": "stdout"
        }
      ]
    },
    {
      "cell_type": "code",
      "metadata": {
        "colab": {
          "base_uri": "https://localhost:8080/"
        },
        "id": "36qnYpTkuP5o",
        "outputId": "a5e2f6b8-34e6-41eb-ca57-6842bdd52792"
      },
      "source": [
        "!pip install netpyne\n"
      ],
      "execution_count": 7,
      "outputs": [
        {
          "output_type": "stream",
          "text": [
            "Collecting netpyne\n",
            "\u001b[?25l  Downloading https://files.pythonhosted.org/packages/9e/24/0f9d685a3fbcbca0d86d9ca6521465c43725d9e23760c91524fe77191f12/netpyne-1.0.0.2-py2.py3-none-any.whl (312kB)\n",
            "\r\u001b[K     |█                               | 10kB 15.0MB/s eta 0:00:01\r\u001b[K     |██                              | 20kB 14.3MB/s eta 0:00:01\r\u001b[K     |███▏                            | 30kB 9.7MB/s eta 0:00:01\r\u001b[K     |████▏                           | 40kB 8.4MB/s eta 0:00:01\r\u001b[K     |█████▎                          | 51kB 4.3MB/s eta 0:00:01\r\u001b[K     |██████▎                         | 61kB 4.9MB/s eta 0:00:01\r\u001b[K     |███████▍                        | 71kB 5.0MB/s eta 0:00:01\r\u001b[K     |████████▍                       | 81kB 5.4MB/s eta 0:00:01\r\u001b[K     |█████████▍                      | 92kB 5.5MB/s eta 0:00:01\r\u001b[K     |██████████▌                     | 102kB 4.2MB/s eta 0:00:01\r\u001b[K     |███████████▌                    | 112kB 4.2MB/s eta 0:00:01\r\u001b[K     |████████████▋                   | 122kB 4.2MB/s eta 0:00:01\r\u001b[K     |█████████████▋                  | 133kB 4.2MB/s eta 0:00:01\r\u001b[K     |██████████████▊                 | 143kB 4.2MB/s eta 0:00:01\r\u001b[K     |███████████████▊                | 153kB 4.2MB/s eta 0:00:01\r\u001b[K     |████████████████▉               | 163kB 4.2MB/s eta 0:00:01\r\u001b[K     |█████████████████▉              | 174kB 4.2MB/s eta 0:00:01\r\u001b[K     |██████████████████▉             | 184kB 4.2MB/s eta 0:00:01\r\u001b[K     |████████████████████            | 194kB 4.2MB/s eta 0:00:01\r\u001b[K     |█████████████████████           | 204kB 4.2MB/s eta 0:00:01\r\u001b[K     |██████████████████████          | 215kB 4.2MB/s eta 0:00:01\r\u001b[K     |███████████████████████         | 225kB 4.2MB/s eta 0:00:01\r\u001b[K     |████████████████████████▏       | 235kB 4.2MB/s eta 0:00:01\r\u001b[K     |█████████████████████████▏      | 245kB 4.2MB/s eta 0:00:01\r\u001b[K     |██████████████████████████▎     | 256kB 4.2MB/s eta 0:00:01\r\u001b[K     |███████████████████████████▎    | 266kB 4.2MB/s eta 0:00:01\r\u001b[K     |████████████████████████████▎   | 276kB 4.2MB/s eta 0:00:01\r\u001b[K     |█████████████████████████████▍  | 286kB 4.2MB/s eta 0:00:01\r\u001b[K     |██████████████████████████████▍ | 296kB 4.2MB/s eta 0:00:01\r\u001b[K     |███████████████████████████████▌| 307kB 4.2MB/s eta 0:00:01\r\u001b[K     |████████████████████████████████| 317kB 4.2MB/s \n",
            "\u001b[?25hRequirement already satisfied: scipy in /usr/local/lib/python3.7/dist-packages (from netpyne) (1.4.1)\n",
            "Requirement already satisfied: matplotlib in /usr/local/lib/python3.7/dist-packages (from netpyne) (3.2.2)\n",
            "Requirement already satisfied: bokeh in /usr/local/lib/python3.7/dist-packages (from netpyne) (2.3.2)\n",
            "Collecting matplotlib-scalebar\n",
            "  Downloading https://files.pythonhosted.org/packages/51/a4/cd254234c35f3591361988e89ab132ee14789f2ebe1ede621d63f5241f00/matplotlib_scalebar-0.7.2-py2.py3-none-any.whl\n",
            "Requirement already satisfied: pandas in /usr/local/lib/python3.7/dist-packages (from netpyne) (1.1.5)\n",
            "Requirement already satisfied: future in /usr/local/lib/python3.7/dist-packages (from netpyne) (0.16.0)\n",
            "Requirement already satisfied: numpy in /usr/local/lib/python3.7/dist-packages (from netpyne) (1.19.5)\n",
            "Requirement already satisfied: pyparsing!=2.0.4,!=2.1.2,!=2.1.6,>=2.0.1 in /usr/local/lib/python3.7/dist-packages (from matplotlib->netpyne) (2.4.7)\n",
            "Requirement already satisfied: kiwisolver>=1.0.1 in /usr/local/lib/python3.7/dist-packages (from matplotlib->netpyne) (1.3.1)\n",
            "Requirement already satisfied: cycler>=0.10 in /usr/local/lib/python3.7/dist-packages (from matplotlib->netpyne) (0.10.0)\n",
            "Requirement already satisfied: python-dateutil>=2.1 in /usr/local/lib/python3.7/dist-packages (from matplotlib->netpyne) (2.8.1)\n",
            "Requirement already satisfied: typing-extensions>=3.7.4 in /usr/local/lib/python3.7/dist-packages (from bokeh->netpyne) (3.7.4.3)\n",
            "Requirement already satisfied: PyYAML>=3.10 in /usr/local/lib/python3.7/dist-packages (from bokeh->netpyne) (3.13)\n",
            "Requirement already satisfied: tornado>=5.1 in /usr/local/lib/python3.7/dist-packages (from bokeh->netpyne) (5.1.1)\n",
            "Requirement already satisfied: Jinja2>=2.9 in /usr/local/lib/python3.7/dist-packages (from bokeh->netpyne) (2.11.3)\n",
            "Requirement already satisfied: packaging>=16.8 in /usr/local/lib/python3.7/dist-packages (from bokeh->netpyne) (20.9)\n",
            "Requirement already satisfied: pillow>=7.1.0 in /usr/local/lib/python3.7/dist-packages (from bokeh->netpyne) (7.1.2)\n",
            "Requirement already satisfied: pytz>=2017.2 in /usr/local/lib/python3.7/dist-packages (from pandas->netpyne) (2018.9)\n",
            "Requirement already satisfied: six in /usr/local/lib/python3.7/dist-packages (from cycler>=0.10->matplotlib->netpyne) (1.15.0)\n",
            "Requirement already satisfied: MarkupSafe>=0.23 in /usr/local/lib/python3.7/dist-packages (from Jinja2>=2.9->bokeh->netpyne) (2.0.0)\n",
            "Installing collected packages: matplotlib-scalebar, netpyne\n",
            "Successfully installed matplotlib-scalebar-0.7.2 netpyne-1.0.0.2\n"
          ],
          "name": "stdout"
        }
      ]
    },
    {
      "cell_type": "code",
      "metadata": {
        "id": "Wdj5J1FzuW2V"
      },
      "source": [
        "import neuron\n",
        "import netpyne"
      ],
      "execution_count": 9,
      "outputs": []
    },
    {
      "cell_type": "code",
      "metadata": {
        "id": "Ao7Whazjud_I"
      },
      "source": [
        "from neuron import h"
      ],
      "execution_count": 12,
      "outputs": []
    }
  ]
}